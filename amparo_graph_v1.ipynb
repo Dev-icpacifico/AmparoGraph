{
 "cells": [
  {
   "metadata": {},
   "cell_type": "markdown",
   "source": [
    "#  Proyecto Amparo con LangChain y LangGraph\n",
    "Este proyecto se desarrollará utilizando una **Arquitectura de agente** tipo **Superviro**.\n",
    "En esta arquitectura usa un LLM para orquestar y delegar a agentes individuales\n",
    "\n",
    "### Objetivos:\n",
    "* Crear un grafo con una arquitectura multiagente tipo Supervisor\n",
    "* Crear un agente supervisor que delegará los trabajos al resto de agentes\n",
    "* Crear otros 5 agentes especializados en trabajos y tareas\n",
    "    * Agente **Amparo** --> Agente principal\n",
    "    * Agente **Buker** --> Agente especializado en BUK\n",
    "    * Agente **Planner** --> Agente especializado en entrega de tareas\n",
    "    * Agente **Reglamento** --> Agente especializado en consultas del reglamento interno\n",
    "    * Agente **Search Web** --> Agente especializado en consultas web para temas más generales\n",
    "### Alcance:\n",
    "\n",
    "El desarrollo de este sistema multiagente se desarrollará en N fases.\n",
    "En una 1era fase se espera tener creado los nodos (sin ejecuión) y el grafo para la visualización de la arquitectura.\n"
   ],
   "id": "2617e71442dca5ff"
  },
  {
   "metadata": {},
   "cell_type": "markdown",
   "source": "### Codigo del proyecto",
   "id": "cff284bff6bc5701"
  },
  {
   "metadata": {},
   "cell_type": "markdown",
   "source": [
    "### Instalación de paquetes y librerias\n",
    "* lanchain_openai\n",
    "* langchain_core\n",
    "* langgraph\n",
    "* langchain_community"
   ],
   "id": "ad58a29ae4b1a6e2"
  },
  {
   "metadata": {
    "ExecuteTime": {
     "end_time": "2025-03-19T21:28:35.026780Z",
     "start_time": "2025-03-19T21:28:29.619085Z"
    }
   },
   "cell_type": "code",
   "source": [
    "%%capture --no-stderr\n",
    "%pip install --quiet -U langchain_openai langchain_core langgraph langchain_community langchain_anthropic langchain_experimental"
   ],
   "id": "d87b9c89593372f7",
   "outputs": [],
   "execution_count": 1
  },
  {
   "metadata": {},
   "cell_type": "markdown",
   "source": "### Importación de librerias\n",
   "id": "52cec7ec2eb6e620"
  },
  {
   "metadata": {
    "ExecuteTime": {
     "end_time": "2025-03-19T21:37:06.725784Z",
     "start_time": "2025-03-19T21:37:06.716578Z"
    }
   },
   "cell_type": "code",
   "source": [
    "from typing import TypedDict, Literal\n",
    "from langgraph.graph import MessagesState, END, START, StateGraph\n",
    "from langgraph.types import Command\n",
    "from langchain_core.messages import HumanMessage\n",
    "from langgraph.prebuilt import create_react_agent\n",
    "from langchain_openai import ChatOpenAI\n",
    "from dotenv import find_dotenv, load_dotenv\n",
    "from langchain_community.tools.tavily_search import TavilySearchResults\n",
    "from IPython.display import Image, display\n",
    "from typing import TypedDict, Optional, Dict, List\n",
    "from pydantic import BaseModel\n",
    "from typing import Literal\n",
    "from typing import Annotated"
   ],
   "id": "47bd1ebb7b354b4c",
   "outputs": [],
   "execution_count": 52
  },
  {
   "metadata": {},
   "cell_type": "markdown",
   "source": [
    "### Carga de variables de entorno\n",
    "* Agrega las API Keys "
   ],
   "id": "7f40733db9b0096a"
  },
  {
   "metadata": {
    "ExecuteTime": {
     "end_time": "2025-03-19T21:28:42.956445Z",
     "start_time": "2025-03-19T21:28:42.944376Z"
    }
   },
   "cell_type": "code",
   "source": [
    "# Cargar variables de entorno\n",
    "dotenv_path = find_dotenv()\n",
    "load_dotenv(dotenv_path)"
   ],
   "id": "d0c807349409bec4",
   "outputs": [
    {
     "data": {
      "text/plain": [
       "True"
      ]
     },
     "execution_count": 3,
     "metadata": {},
     "output_type": "execute_result"
    }
   ],
   "execution_count": 3
  },
  {
   "metadata": {},
   "cell_type": "markdown",
   "source": "### Definimos una estructura para el estado\n",
   "id": "635ea0260265ac65"
  },
  {
   "metadata": {
    "ExecuteTime": {
     "end_time": "2025-03-19T20:01:35.683120Z",
     "start_time": "2025-03-19T20:01:35.668575Z"
    }
   },
   "cell_type": "code",
   "source": [
    "class State(TypedDict):\n",
    "    graph_state: str\n",
    "    messages: list"
   ],
   "id": "60a6c8b94bcb425d",
   "outputs": [],
   "execution_count": 5
  },
  {
   "metadata": {},
   "cell_type": "markdown",
   "source": [
    "#### Nueva estructura del estado.\n",
    "Esta nueva estructura utiliza 3 niveles distintos de estados\n",
    "\n",
    "**InputState - SupervisorState - PrivateState**"
   ],
   "id": "2cc478adc3d168c7"
  },
  {
   "metadata": {
    "ExecuteTime": {
     "end_time": "2025-03-19T21:42:23.918700Z",
     "start_time": "2025-03-19T21:42:23.900485Z"
    }
   },
   "cell_type": "code",
   "source": [
    "# Estado de Entrada: Contiene la consulta que hará el usuario\n",
    "class InputState(TypedDict):\n",
    "    user_query: str\n",
    "    context: Optional[Dict]\n",
    "\n",
    "class SupervisorState(TypedDict):\n",
    "    user_query: str\n",
    "    assigned_agent: Optional[str]  # Nombre del agente que procesará la tarea\n",
    "    agent_responses: Annotated[List[str], \"accumulate\"]  # ✅ Cambiado de \"agent_response\" a \"agent_responses\"\n",
    "    conversation_history: List[str]  # Historial del usuario\n",
    "    task_status: Dict[str, str]  # Estado de cada tarea asignada\n",
    "    \n",
    "# Estado privado para cada agente:\n",
    "class BukerState(TypedDict):\n",
    "    buk_data: Optional[str] # Información que se obtiene desde Buk\n",
    "\n",
    "class PlannerState(TypedDict):\n",
    "    task_list: List[str] # Lista de tareas asignadas a la persona\n",
    "    \n",
    "class ReglamentoState(TypedDict):\n",
    "    regulation_response: Optional[str] # Respuesta a la consulta del reglamento\n",
    "\n",
    "class SearchState(TypedDict):\n",
    "    search_results: Optional[str] # Resultados de busqueda web\n",
    "    "
   ],
   "id": "d56cac1d30e5f633",
   "outputs": [],
   "execution_count": 90
  },
  {
   "metadata": {},
   "cell_type": "markdown",
   "source": [
    "### Definimos los agentes o miembros:\n",
    "Estos son los que estarán en este sistema multi-agente tipo supervisor\n",
    "   * Agente **Amparo** --> Agente principal\n",
    "   * Agente **Buker** --> Agente especializado en BUK\n",
    "   * Agente **Planner** --> Agente especializado en entrega de tareas\n",
    "   * Agente **Reglamento** --> Agente especializado en consultas del reglamento interno\n",
    "   * Agente **Search Web** --> Agente especializado en consultas web para temas más generales"
   ],
   "id": "bcf91f21863a52bc"
  },
  {
   "metadata": {
    "ExecuteTime": {
     "end_time": "2025-03-19T21:28:51.700689Z",
     "start_time": "2025-03-19T21:28:51.687297Z"
    }
   },
   "cell_type": "code",
   "source": [
    "members = [\"amparo\", \"buker\", \"planner\", \"reglamento\", \"search_web\"]\n",
    "options = members + [\"FINISH\"]"
   ],
   "id": "dbe73c26a6943b87",
   "outputs": [],
   "execution_count": 5
  },
  {
   "metadata": {},
   "cell_type": "markdown",
   "source": [
    "### System Prompt\n",
    "Entregamos el prompt que usará el supervisor para dirigir el trabajo a los diferentes agente"
   ],
   "id": "91db90a4d020851c"
  },
  {
   "metadata": {
    "ExecuteTime": {
     "end_time": "2025-03-19T21:28:53.756539Z",
     "start_time": "2025-03-19T21:28:53.743251Z"
    }
   },
   "cell_type": "code",
   "source": [
    "# Prompt del sistema\n",
    "system_prompt = (\n",
    "    \"Eres un supervisor de RRHH que trabaja para las empresas constructora del mar II e inmobiliaria costanera pacifico \"\n",
    "    f\"y eres el encargado de gestionar las conversaciones y solicitudes entre los siguientes miembros: {members}. \"\n",
    "    \"Ante la siguiente solicitud del usuario, responda con el miembro que debe actuar a continuación. \"\n",
    "    \"Cada miembro realizará una tarea y responderá con sus resultados y el estado. Al finalizar, responda con FINISH.\"\n",
    ")"
   ],
   "id": "681d25f396dacaf7",
   "outputs": [],
   "execution_count": 6
  },
  {
   "metadata": {},
   "cell_type": "markdown",
   "source": [
    "### Creación del Router\n",
    "Este se encargará de dirigir la flujo entre los agentes"
   ],
   "id": "8ac6fe7eef12c33b"
  },
  {
   "metadata": {
    "ExecuteTime": {
     "end_time": "2025-03-19T20:06:44.553150Z",
     "start_time": "2025-03-19T20:06:44.545766Z"
    }
   },
   "cell_type": "code",
   "source": [
    "class Router(TypedDict):\n",
    "    next: Literal[options]"
   ],
   "id": "a466334938f8daaf",
   "outputs": [],
   "execution_count": 12
  },
  {
   "metadata": {},
   "cell_type": "markdown",
   "source": "### Nuevo Router:",
   "id": "fc36e7ac51775c00"
  },
  {
   "metadata": {
    "ExecuteTime": {
     "end_time": "2025-03-19T21:42:29.568179Z",
     "start_time": "2025-03-19T21:42:29.558512Z"
    }
   },
   "cell_type": "code",
   "source": [
    "class Router(BaseModel):\n",
    "    next: Literal[\"buker\", \"planner\", \"reglamento\", \"search_web\", \"FINISH\"]\n"
   ],
   "id": "849ec48f9d6f7267",
   "outputs": [],
   "execution_count": 91
  },
  {
   "metadata": {},
   "cell_type": "markdown",
   "source": [
    "### Selección del modelo\n",
    "En este caso se usará **gpt-3.5-turbo**"
   ],
   "id": "411dab0691559982"
  },
  {
   "metadata": {
    "ExecuteTime": {
     "end_time": "2025-03-19T21:28:58.463258Z",
     "start_time": "2025-03-19T21:28:58.414618Z"
    }
   },
   "cell_type": "code",
   "source": [
    "# Configurar modelo de lenguaje\n",
    "llm = ChatOpenAI(model=\"gpt-4o\")"
   ],
   "id": "b4759ab71e01a471",
   "outputs": [],
   "execution_count": 8
  },
  {
   "metadata": {},
   "cell_type": "markdown",
   "source": [
    "### Creamos el Agente Supervisor\n",
    " Este se encargará de orquestar el sistema"
   ],
   "id": "2b19d58000381e15"
  },
  {
   "metadata": {
    "ExecuteTime": {
     "end_time": "2025-03-19T21:08:24.851269Z",
     "start_time": "2025-03-19T21:08:24.834407Z"
    }
   },
   "cell_type": "code",
   "source": [
    "# Definir nodo supervisor\n",
    "def amparo_node(state: SupervisorState) -> Command:\n",
    "    messages = [{\"role\": \"system\", \"content\": system_prompt}] + state[\"messages\"]\n",
    "    response = llm.with_structured_output(Router).invoke(messages)\n",
    "    goto = response[\"next\"]\n",
    "    \n",
    "    if goto == \"FINISH\":\n",
    "        goto = END  # ✅ Usa END en vez de un string \"END\"\n",
    "    \n",
    "    return Command(goto=goto, update={\"next\": goto})"
   ],
   "id": "c524691495a65626",
   "outputs": [],
   "execution_count": 86
  },
  {
   "metadata": {},
   "cell_type": "markdown",
   "source": "### Creación nueva versión Agente Supervisor",
   "id": "94113f8cbdd3ba76"
  },
  {
   "metadata": {
    "ExecuteTime": {
     "end_time": "2025-03-19T21:42:33.894059Z",
     "start_time": "2025-03-19T21:42:33.882573Z"
    }
   },
   "cell_type": "code",
   "source": [
    "def amparo_node(state: SupervisorState) -> Command:\n",
    "    # 🔹 Convertir historial de conversación en mensajes estructurados\n",
    "    history = [{\"role\": \"user\", \"content\": msg} for msg in state.get(\"conversation_history\", [])]\n",
    "\n",
    "    # 🔹 Construir el mensaje con el sistema y el historial\n",
    "    messages = [{\"role\": \"system\", \"content\": system_prompt}] + history\n",
    "\n",
    "    # 🔹 Agregar la consulta del usuario al final del historial\n",
    "    if \"user_query\" in state:\n",
    "        messages.append({\"role\": \"user\", \"content\": state[\"user_query\"]})  # ✅ Se agrega user_query\n",
    "\n",
    "    print(\"\\n📌 Verificando estructura de messages:\", messages)  # 🚀 Debug\n",
    "\n",
    "    # 🔹 Invocar el modelo con la estructura corregida\n",
    "    response = llm.with_structured_output(Router).invoke(messages)\n",
    "\n",
    "    # 🔹 Obtener el siguiente nodo\n",
    "    goto = response.next  \n",
    "\n",
    "    if goto == \"FINISH\":\n",
    "        goto = END  \n",
    "\n",
    "    updated_state = {\n",
    "        \"next\": goto,\n",
    "        \"task_status\": {**state.get(\"task_status\", {}), \"supervisor\": f\"Delegando a {goto}\"},\n",
    "        \"conversation_history\": state.get(\"conversation_history\", []) + [f\"Supervisor asignó tarea a {goto}\"]\n",
    "    }\n",
    "\n",
    "    return Command(goto=goto, update=updated_state)\n"
   ],
   "id": "c0ea8ec8c5bfabcc",
   "outputs": [],
   "execution_count": 92
  },
  {
   "metadata": {},
   "cell_type": "markdown",
   "source": "### Continuamos con la creación preliminar del resto de agentes\n",
   "id": "465f07ca3d7de4a6"
  },
  {
   "metadata": {
    "ExecuteTime": {
     "end_time": "2025-03-19T21:08:29.532242Z",
     "start_time": "2025-03-19T21:08:29.525565Z"
    }
   },
   "cell_type": "code",
   "source": [
    "# Definir los nodos restantes como Commands en vez de strings\n",
    "# def amparo(state: State) -> Command:\n",
    "  #  return Command(goto=\"supervisor_node\")\n",
    "\n",
    "def buker(state: State) -> Command:\n",
    "    return Command(goto=\"supervisor_node\")\n",
    "\n",
    "def planner(state: State) -> Command:\n",
    "    return Command(goto=\"supervisor_node\")\n",
    "\n",
    "def reglamento(state: State) -> Command:\n",
    "    return Command(goto=\"supervisor_node\")"
   ],
   "id": "7fc27b260fa55e59",
   "outputs": [],
   "execution_count": 88
  },
  {
   "metadata": {},
   "cell_type": "markdown",
   "source": [
    "### Nueva Versión del Agente Buker\n",
    "En esta nueva versión se utilizará el SupervisorState y el BukerState --> Privado para el agente Buker\n"
   ],
   "id": "6ec925fef689c0d5"
  },
  {
   "metadata": {
    "ExecuteTime": {
     "end_time": "2025-03-19T21:42:37.664744Z",
     "start_time": "2025-03-19T21:42:37.646011Z"
    }
   },
   "cell_type": "code",
   "source": [
    "def buker(state: SupervisorState) -> Command:\n",
    "    user_query = state[\"user_query\"]\n",
    "\n",
    "    # 🔹 Simulación de consulta a BUK\n",
    "    buk_data = f\"Información desde BUK para: {user_query}\"\n",
    "\n",
    "    # 🔹 Creación del estado privado para Buker\n",
    "    buker_state: BukerState = {\"buk_data\": buk_data}\n",
    "\n",
    "    # 🔹 Actualización del estado general y decisión del siguiente nodo\n",
    "    updated_state = {\n",
    "        \"agent_responses\": state.get(\"agent_responses\", []) + [buk_data],  # ✅ Ahora es una lista\n",
    "        \"task_status\": {**state.get(\"task_status\", {}), \"buker\": \"completado\"},\n",
    "    }\n",
    "\n",
    "    return Command(update=updated_state, goto=\"amparo_node\")\n",
    "\n"
   ],
   "id": "f9bfd0de0689972",
   "outputs": [],
   "execution_count": 93
  },
  {
   "metadata": {},
   "cell_type": "markdown",
   "source": [
    "### Nueva Versión del Agente Planner\n",
    "En esta nueva versión se utilizará el SupervisorState y el PlannerState --> Privado para el agente Planner"
   ],
   "id": "7db968f5e9676d9c"
  },
  {
   "metadata": {
    "ExecuteTime": {
     "end_time": "2025-03-19T21:42:39.484875Z",
     "start_time": "2025-03-19T21:42:39.470956Z"
    }
   },
   "cell_type": "code",
   "source": [
    "def planner(state: SupervisorState) -> Command:\n",
    "    user_query = state[\"user_query\"]\n",
    "\n",
    "    # 🔹 Simulación de una consulta a la planificación\n",
    "    planner_data = f\"Información de la planificación para: {user_query}\"\n",
    "\n",
    "    # 🔹 Creación del estado privado para Planner\n",
    "    planner_state: PlannerState = {\"task_list\": [planner_data]}\n",
    "\n",
    "    # 🔹 Actualización del estado general y decisión del siguiente nodo\n",
    "    updated_state = {\n",
    "        \"agent_responses\": state.get(\"agent_responses\", []) + [planner_data],  # ✅ Se agrega a la lista\n",
    "        \"task_status\": {**state.get(\"task_status\", {}), \"planner\": \"completado\"},\n",
    "    }\n",
    "\n",
    "    return Command(update=updated_state, goto=\"amparo_node\")\n",
    "\n",
    "\n"
   ],
   "id": "fd3c74f65c91c372",
   "outputs": [],
   "execution_count": 94
  },
  {
   "metadata": {},
   "cell_type": "markdown",
   "source": [
    "### Nueva Versión del Agente Reglamento\n",
    "En esta nueva versión se utilizará el SupervisorState y el ReglamentoState --> Privado para el agente Reglamento"
   ],
   "id": "1d7b48c87a669a38"
  },
  {
   "metadata": {
    "ExecuteTime": {
     "end_time": "2025-03-19T21:42:41.246161Z",
     "start_time": "2025-03-19T21:42:41.230815Z"
    }
   },
   "cell_type": "code",
   "source": [
    "def reglamento(state: SupervisorState) -> Command:\n",
    "    user_query = state[\"user_query\"]\n",
    "\n",
    "    # 🔹 Simulación de consulta al reglamento interno\n",
    "    reglamento_data = f\"Información del reglamento para: {user_query}\"\n",
    "\n",
    "    # 🔹 Creación del estado privado para ReglamentoState\n",
    "    reglamento_state: ReglamentoState = {\"regulation_response\": reglamento_data}\n",
    "\n",
    "    # 🔹 Actualización del estado general y decisión del siguiente nodo\n",
    "    updated_state = {\n",
    "        \"agent_responses\": state.get(\"agent_responses\", []) + [reglamento_data],  # ✅ Se agrega como un elemento a la lista\n",
    "        \"task_status\": {**state.get(\"task_status\", {}), \"reglamento\": \"completado\"},\n",
    "    }\n",
    "\n",
    "    return Command(update=updated_state, goto=\"amparo_node\")\n",
    "\n"
   ],
   "id": "dee579f667411e9f",
   "outputs": [],
   "execution_count": 95
  },
  {
   "metadata": {},
   "cell_type": "markdown",
   "source": "### Tools y agent Search Web",
   "id": "14f6c1c14f05aba5"
  },
  {
   "metadata": {
    "ExecuteTime": {
     "end_time": "2025-03-19T21:42:43.903168Z",
     "start_time": "2025-03-19T21:42:43.893788Z"
    }
   },
   "cell_type": "code",
   "source": [
    "# Configurar herramientas de búsqueda\n",
    "tavily_tool = TavilySearchResults(max_results=5)"
   ],
   "id": "57b5e0d681867f95",
   "outputs": [],
   "execution_count": 96
  },
  {
   "metadata": {
    "ExecuteTime": {
     "end_time": "2025-03-19T21:42:44.912108Z",
     "start_time": "2025-03-19T21:42:44.891781Z"
    }
   },
   "cell_type": "code",
   "source": [
    "# Crear agente de investigación\n",
    "research_agent = create_react_agent(\n",
    "    llm, tools=[tavily_tool], prompt=\"Eres un agente especializado en busqueda web\"\n",
    ")\n",
    "\n",
    "# Nodo de búsqueda web\n",
    "def research_node(state: SupervisorState) -> Command:\n",
    "    result = research_agent.invoke(state)\n",
    "    return Command(\n",
    "        update={\"messages\": [HumanMessage(content=result[\"messages\"][-1].content, name=\"researcher\")]},\n",
    "        goto=\"supervisor_node\",\n",
    "    )\n",
    "\n",
    "def search_web(state: SupervisorState) -> Command:\n",
    "    return Command(goto=\"amparo_node\")"
   ],
   "id": "ad16f965b4570352",
   "outputs": [],
   "execution_count": 97
  },
  {
   "metadata": {},
   "cell_type": "markdown",
   "source": "### Construcción del Grafo",
   "id": "2527819c2ec5474f"
  },
  {
   "metadata": {
    "ExecuteTime": {
     "end_time": "2025-03-19T21:42:47.162854Z",
     "start_time": "2025-03-19T21:42:47.156177Z"
    }
   },
   "cell_type": "code",
   "source": "builder = StateGraph(SupervisorState, input=InputState)",
   "id": "78317f5cf3406547",
   "outputs": [],
   "execution_count": 98
  },
  {
   "metadata": {},
   "cell_type": "markdown",
   "source": "### Añadir Nodos",
   "id": "7323e609afb286f4"
  },
  {
   "metadata": {
    "ExecuteTime": {
     "end_time": "2025-03-19T21:42:48.392012Z",
     "start_time": "2025-03-19T21:42:48.381816Z"
    }
   },
   "cell_type": "code",
   "source": [
    "builder.add_node(\"amparo\", amparo_node)\n",
    "builder.add_node(\"buker\", buker)\n",
    "builder.add_node(\"planner\", planner)\n",
    "builder.add_node(\"reglamento\", reglamento)\n",
    "builder.add_node(\"search_web\", search_web)"
   ],
   "id": "9207d56c9bd3400d",
   "outputs": [
    {
     "data": {
      "text/plain": [
       "<langgraph.graph.state.StateGraph at 0x2a5fc1121c0>"
      ]
     },
     "execution_count": 99,
     "metadata": {},
     "output_type": "execute_result"
    }
   ],
   "execution_count": 99
  },
  {
   "metadata": {},
   "cell_type": "markdown",
   "source": "### Definiciónde Edges",
   "id": "fe5453f395ee0db6"
  },
  {
   "metadata": {
    "ExecuteTime": {
     "end_time": "2025-03-19T21:42:50.187381Z",
     "start_time": "2025-03-19T21:42:50.175478Z"
    }
   },
   "cell_type": "code",
   "source": [
    "# Definir conexiones entre nodos\n",
    "builder.add_edge(START, \"amparo\")\n",
    "builder.add_edge(\"amparo\", \"buker\")\n",
    "builder.add_edge(\"buker\", \"amparo\")\n",
    "builder.add_edge(\"amparo\", \"planner\")\n",
    "builder.add_edge(\"planner\", \"amparo\")\n",
    "builder.add_edge(\"amparo\", \"reglamento\")\n",
    "builder.add_edge(\"reglamento\", \"amparo\")\n",
    "builder.add_edge(\"amparo\", \"search_web\")\n",
    "builder.add_edge(\"search_web\", \"amparo\")\n",
    "builder.add_edge(\"amparo\", END)  # ✅ Asegurar que END es un valor válido"
   ],
   "id": "6934d5a141907ef3",
   "outputs": [
    {
     "data": {
      "text/plain": [
       "<langgraph.graph.state.StateGraph at 0x2a5fc1121c0>"
      ]
     },
     "execution_count": 100,
     "metadata": {},
     "output_type": "execute_result"
    }
   ],
   "execution_count": 100
  },
  {
   "metadata": {},
   "cell_type": "markdown",
   "source": "### Compilación y visaulización del grafo",
   "id": "1f9e0250911f97ea"
  },
  {
   "metadata": {
    "ExecuteTime": {
     "end_time": "2025-03-19T21:42:52.391818Z",
     "start_time": "2025-03-19T21:42:52.230443Z"
    }
   },
   "cell_type": "code",
   "source": [
    "# Compilar y mostrar el gráfico de estados\n",
    "graph = builder.compile()\n",
    "display(Image(graph.get_graph().draw_mermaid_png()))"
   ],
   "id": "c6bb673b3acffa77",
   "outputs": [
    {
     "data": {
      "image/png": "[encoded data removed]",
      "text/plain": [
       "<IPython.core.display.Image object>"
      ]
     },
     "metadata": {},
     "output_type": "display_data"
    }
   ],
   "execution_count": 101
  },
  {
   "metadata": {
    "ExecuteTime": {
     "end_time": "2025-03-19T21:42:55.846378Z",
     "start_time": "2025-03-19T21:42:54.887794Z"
    }
   },
   "cell_type": "code",
   "source": [
    "\n",
    "response = graph.invoke({\"user_query\": \"Quien es el presidente de los Estados Unidos de América\"})\n",
    "print(response)"
   ],
   "id": "ff55348ee5337361",
   "outputs": [
    {
     "name": "stdout",
     "output_type": "stream",
     "text": [
      "\n",
      "📌 Verificando estructura de messages: [{'role': 'system', 'content': \"Eres un supervisor de RRHH que trabaja para las empresas constructora del mar II e inmobiliaria costanera pacifico y eres el encargado de gestionar las conversaciones y solicitudes entre los siguientes miembros: ['amparo', 'buker', 'planner', 'reglamento', 'search_web']. Ante la siguiente solicitud del usuario, responda con el miembro que debe actuar a continuación. Cada miembro realizará una tarea y responderá con sus resultados y el estado. Al finalizar, responda con FINISH.\"}, {'role': 'user', 'content': 'Quien es el presidente de los Estados Unidos de América'}]\n"
     ]
    },
    {
     "ename": "InvalidUpdateError",
     "evalue": "At key 'agent_responses': Can receive only one value per step. Use an Annotated key to handle multiple values.\nFor troubleshooting, visit: https://python.langchain.com/docs/troubleshooting/errors/INVALID_CONCURRENT_GRAPH_UPDATE",
     "output_type": "error",
     "traceback": [
      "\u001B[1;31m---------------------------------------------------------------------------\u001B[0m",
      "\u001B[1;31mInvalidUpdateError\u001B[0m                        Traceback (most recent call last)",
      "\u001B[1;32m~\\AppData\\Local\\Temp\\ipykernel_12436\\3247481135.py\u001B[0m in \u001B[0;36m<module>\u001B[1;34m\u001B[0m\n\u001B[1;32m----> 1\u001B[1;33m \u001B[0mresponse\u001B[0m \u001B[1;33m=\u001B[0m \u001B[0mgraph\u001B[0m\u001B[1;33m.\u001B[0m\u001B[0minvoke\u001B[0m\u001B[1;33m(\u001B[0m\u001B[1;33m{\u001B[0m\u001B[1;34m\"user_query\"\u001B[0m\u001B[1;33m:\u001B[0m \u001B[1;34m\"Quien es el presidente de los Estados Unidos de América\"\u001B[0m\u001B[1;33m}\u001B[0m\u001B[1;33m)\u001B[0m\u001B[1;33m\u001B[0m\u001B[1;33m\u001B[0m\u001B[0m\n\u001B[0m\u001B[0;32m      2\u001B[0m \u001B[0mprint\u001B[0m\u001B[1;33m(\u001B[0m\u001B[0mresponse\u001B[0m\u001B[1;33m)\u001B[0m\u001B[1;33m\u001B[0m\u001B[1;33m\u001B[0m\u001B[0m\n",
      "\u001B[1;32m~\\anaconda3\\lib\\site-packages\\langgraph\\pregel\\__init__.py\u001B[0m in \u001B[0;36minvoke\u001B[1;34m(self, input, config, stream_mode, output_keys, interrupt_before, interrupt_after, debug, **kwargs)\u001B[0m\n\u001B[0;32m   2667\u001B[0m         \u001B[1;32melse\u001B[0m\u001B[1;33m:\u001B[0m\u001B[1;33m\u001B[0m\u001B[1;33m\u001B[0m\u001B[0m\n\u001B[0;32m   2668\u001B[0m             \u001B[0mchunks\u001B[0m \u001B[1;33m=\u001B[0m \u001B[1;33m[\u001B[0m\u001B[1;33m]\u001B[0m\u001B[1;33m\u001B[0m\u001B[1;33m\u001B[0m\u001B[0m\n\u001B[1;32m-> 2669\u001B[1;33m         for chunk in self.stream(\n\u001B[0m\u001B[0;32m   2670\u001B[0m             \u001B[0minput\u001B[0m\u001B[1;33m,\u001B[0m\u001B[1;33m\u001B[0m\u001B[1;33m\u001B[0m\u001B[0m\n\u001B[0;32m   2671\u001B[0m             \u001B[0mconfig\u001B[0m\u001B[1;33m,\u001B[0m\u001B[1;33m\u001B[0m\u001B[1;33m\u001B[0m\u001B[0m\n",
      "\u001B[1;32m~\\anaconda3\\lib\\site-packages\\langgraph\\pregel\\__init__.py\u001B[0m in \u001B[0;36mstream\u001B[1;34m(self, input, config, stream_mode, output_keys, interrupt_before, interrupt_after, debug, subgraphs)\u001B[0m\n\u001B[0;32m   2320\u001B[0m                 \u001B[1;31m# channels are guaranteed to be immutable for the duration of the step,\u001B[0m\u001B[1;33m\u001B[0m\u001B[1;33m\u001B[0m\u001B[0m\n\u001B[0;32m   2321\u001B[0m                 \u001B[1;31m# with channel updates applied only at the transition between steps.\u001B[0m\u001B[1;33m\u001B[0m\u001B[1;33m\u001B[0m\u001B[0m\n\u001B[1;32m-> 2322\u001B[1;33m                 \u001B[1;32mwhile\u001B[0m \u001B[0mloop\u001B[0m\u001B[1;33m.\u001B[0m\u001B[0mtick\u001B[0m\u001B[1;33m(\u001B[0m\u001B[0minput_keys\u001B[0m\u001B[1;33m=\u001B[0m\u001B[0mself\u001B[0m\u001B[1;33m.\u001B[0m\u001B[0minput_channels\u001B[0m\u001B[1;33m)\u001B[0m\u001B[1;33m:\u001B[0m\u001B[1;33m\u001B[0m\u001B[1;33m\u001B[0m\u001B[0m\n\u001B[0m\u001B[0;32m   2323\u001B[0m                     for _ in runner.tick(\n\u001B[0;32m   2324\u001B[0m                         \u001B[0mloop\u001B[0m\u001B[1;33m.\u001B[0m\u001B[0mtasks\u001B[0m\u001B[1;33m.\u001B[0m\u001B[0mvalues\u001B[0m\u001B[1;33m(\u001B[0m\u001B[1;33m)\u001B[0m\u001B[1;33m,\u001B[0m\u001B[1;33m\u001B[0m\u001B[1;33m\u001B[0m\u001B[0m\n",
      "\u001B[1;32m~\\anaconda3\\lib\\site-packages\\langgraph\\pregel\\loop.py\u001B[0m in \u001B[0;36mtick\u001B[1;34m(self, input_keys)\u001B[0m\n\u001B[0;32m    428\u001B[0m                 )\n\u001B[0;32m    429\u001B[0m             \u001B[1;31m# all tasks have finished\u001B[0m\u001B[1;33m\u001B[0m\u001B[1;33m\u001B[0m\u001B[0m\n\u001B[1;32m--> 430\u001B[1;33m             mv_writes = apply_writes(\n\u001B[0m\u001B[0;32m    431\u001B[0m                 \u001B[0mself\u001B[0m\u001B[1;33m.\u001B[0m\u001B[0mcheckpoint\u001B[0m\u001B[1;33m,\u001B[0m\u001B[1;33m\u001B[0m\u001B[1;33m\u001B[0m\u001B[0m\n\u001B[0;32m    432\u001B[0m                 \u001B[0mself\u001B[0m\u001B[1;33m.\u001B[0m\u001B[0mchannels\u001B[0m\u001B[1;33m,\u001B[0m\u001B[1;33m\u001B[0m\u001B[1;33m\u001B[0m\u001B[0m\n",
      "\u001B[1;32m~\\anaconda3\\lib\\site-packages\\langgraph\\pregel\\algo.py\u001B[0m in \u001B[0;36mapply_writes\u001B[1;34m(checkpoint, channels, tasks, get_next_version)\u001B[0m\n\u001B[0;32m    303\u001B[0m     \u001B[1;32mfor\u001B[0m \u001B[0mchan\u001B[0m\u001B[1;33m,\u001B[0m \u001B[0mvals\u001B[0m \u001B[1;32min\u001B[0m \u001B[0mpending_writes_by_channel\u001B[0m\u001B[1;33m.\u001B[0m\u001B[0mitems\u001B[0m\u001B[1;33m(\u001B[0m\u001B[1;33m)\u001B[0m\u001B[1;33m:\u001B[0m\u001B[1;33m\u001B[0m\u001B[1;33m\u001B[0m\u001B[0m\n\u001B[0;32m    304\u001B[0m         \u001B[1;32mif\u001B[0m \u001B[0mchan\u001B[0m \u001B[1;32min\u001B[0m \u001B[0mchannels\u001B[0m\u001B[1;33m:\u001B[0m\u001B[1;33m\u001B[0m\u001B[1;33m\u001B[0m\u001B[0m\n\u001B[1;32m--> 305\u001B[1;33m             \u001B[1;32mif\u001B[0m \u001B[0mchannels\u001B[0m\u001B[1;33m[\u001B[0m\u001B[0mchan\u001B[0m\u001B[1;33m]\u001B[0m\u001B[1;33m.\u001B[0m\u001B[0mupdate\u001B[0m\u001B[1;33m(\u001B[0m\u001B[0mvals\u001B[0m\u001B[1;33m)\u001B[0m \u001B[1;32mand\u001B[0m \u001B[0mget_next_version\u001B[0m \u001B[1;32mis\u001B[0m \u001B[1;32mnot\u001B[0m \u001B[1;32mNone\u001B[0m\u001B[1;33m:\u001B[0m\u001B[1;33m\u001B[0m\u001B[1;33m\u001B[0m\u001B[0m\n\u001B[0m\u001B[0;32m    306\u001B[0m                 checkpoint[\"channel_versions\"][chan] = get_next_version(\n\u001B[0;32m    307\u001B[0m                     \u001B[0mmax_version\u001B[0m\u001B[1;33m,\u001B[0m\u001B[1;33m\u001B[0m\u001B[1;33m\u001B[0m\u001B[0m\n",
      "\u001B[1;32m~\\anaconda3\\lib\\site-packages\\langgraph\\channels\\last_value.py\u001B[0m in \u001B[0;36mupdate\u001B[1;34m(self, values)\u001B[0m\n\u001B[0;32m     50\u001B[0m                 \u001B[0merror_code\u001B[0m\u001B[1;33m=\u001B[0m\u001B[0mErrorCode\u001B[0m\u001B[1;33m.\u001B[0m\u001B[0mINVALID_CONCURRENT_GRAPH_UPDATE\u001B[0m\u001B[1;33m,\u001B[0m\u001B[1;33m\u001B[0m\u001B[1;33m\u001B[0m\u001B[0m\n\u001B[0;32m     51\u001B[0m             )\n\u001B[1;32m---> 52\u001B[1;33m             \u001B[1;32mraise\u001B[0m \u001B[0mInvalidUpdateError\u001B[0m\u001B[1;33m(\u001B[0m\u001B[0mmsg\u001B[0m\u001B[1;33m)\u001B[0m\u001B[1;33m\u001B[0m\u001B[1;33m\u001B[0m\u001B[0m\n\u001B[0m\u001B[0;32m     53\u001B[0m \u001B[1;33m\u001B[0m\u001B[0m\n\u001B[0;32m     54\u001B[0m         \u001B[0mself\u001B[0m\u001B[1;33m.\u001B[0m\u001B[0mvalue\u001B[0m \u001B[1;33m=\u001B[0m \u001B[0mvalues\u001B[0m\u001B[1;33m[\u001B[0m\u001B[1;33m-\u001B[0m\u001B[1;36m1\u001B[0m\u001B[1;33m]\u001B[0m\u001B[1;33m\u001B[0m\u001B[1;33m\u001B[0m\u001B[0m\n",
      "\u001B[1;31mInvalidUpdateError\u001B[0m: At key 'agent_responses': Can receive only one value per step. Use an Annotated key to handle multiple values.\nFor troubleshooting, visit: https://python.langchain.com/docs/troubleshooting/errors/INVALID_CONCURRENT_GRAPH_UPDATE"
     ]
    }
   ],
   "execution_count": 102
  },
  {
   "metadata": {},
   "cell_type": "code",
   "outputs": [],
   "execution_count": null,
   "source": "",
   "id": "c063aefb47726e3f"
  }
 ],
 "metadata": {
  "kernelspec": {
   "display_name": "Python 3",
   "language": "python",
   "name": "python3"
  },
  "language_info": {
   "codemirror_mode": {
    "name": "ipython",
    "version": 2
   },
   "file_extension": ".py",
   "mimetype": "text/x-python",
   "name": "python",
   "nbconvert_exporter": "python",
   "pygments_lexer": "ipython2",
   "version": "2.7.6"
  }
 },
 "nbformat": 4,
 "nbformat_minor": 5
}
