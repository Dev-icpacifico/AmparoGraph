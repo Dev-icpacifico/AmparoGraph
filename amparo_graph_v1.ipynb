{
 "cells": [
  {
   "metadata": {},
   "cell_type": "markdown",
   "source": [
    "#  Proyecto Amparo con LangChain y LangGraph\n",
    "Este proyecto se desarrollará utilizando una **Arquitectura de agente** tipo **Superviro**.\n",
    "En esta arquitectura usa un LLM para orquestar y delegar a agentes individuales\n",
    "\n",
    "### Objetivos:\n",
    "* Crear un grafo con una arquitectura multiagente tipo Supervisor\n",
    "* Crear un **react_agent** supervisor que delegará los trabajos al resto de agentes\n",
    "* Crear otros 5 agentes especializados en trabajos y tareas\n",
    "    * Agente **Amparo** --> Agente principal\n",
    "    * Agente **Buker** --> Agente especializado en BUK\n",
    "    * Agente **Planner** --> Agente especializado en entrega de tareas\n",
    "    * Agente **Reglamento** --> Agente especializado en consultas del reglamento interno\n",
    "    * Agente **Search Web** --> Agente especializado en consultas web para temas más generales\n",
    "### Alcance:\n",
    "\n",
    "El desarrollo de este sistema multiagente se desarrollará en N fases.\n",
    "En una 1era fase se espera tener creado los nodos (sin ejecuión) y el grafo para la visualización de la arquitectura.\n"
   ],
   "id": "2617e71442dca5ff"
  },
  {
   "metadata": {},
   "cell_type": "markdown",
   "source": "### Codigo del proyecto",
   "id": "cff284bff6bc5701"
  },
  {
   "metadata": {},
   "cell_type": "markdown",
   "source": [
    "### Instalación de paquetes y librerias\n",
    "* lanchain_openai\n",
    "* langchain_core\n",
    "* langgraph\n",
    "* langchain_community"
   ],
   "id": "ad58a29ae4b1a6e2"
  },
  {
   "metadata": {
    "ExecuteTime": {
     "end_time": "2025-03-19T14:21:36.063847Z",
     "start_time": "2025-03-19T14:21:20.708706Z"
    }
   },
   "cell_type": "code",
   "source": [
    "%%capture --no-stderr\n",
    "%pip install --quiet -U langchain_openai langchain_core langgraph langchain_community langchain_anthropic langchain_experimental"
   ],
   "id": "d87b9c89593372f7",
   "outputs": [],
   "execution_count": 1
  },
  {
   "metadata": {},
   "cell_type": "markdown",
   "source": "### Importación de librerias\n",
   "id": "52cec7ec2eb6e620"
  },
  {
   "metadata": {
    "ExecuteTime": {
     "end_time": "2025-03-19T14:38:57.427693Z",
     "start_time": "2025-03-19T14:38:56.239161Z"
    }
   },
   "cell_type": "code",
   "source": [
    "from typing import TypedDict, Literal\n",
    "from langgraph.graph import MessagesState, END, START, StateGraph\n",
    "from langgraph.types import Command\n",
    "from langchain_core.messages import HumanMessage\n",
    "from langgraph.prebuilt import create_react_agent\n",
    "from langchain_openai import ChatOpenAI\n",
    "from dotenv import find_dotenv, load_dotenv\n",
    "from langchain_community.tools.tavily_search import TavilySearchResults\n",
    "from IPython.display import Image, display"
   ],
   "id": "47bd1ebb7b354b4c",
   "outputs": [],
   "execution_count": 1
  },
  {
   "metadata": {},
   "cell_type": "markdown",
   "source": [
    "### Carga de variables de entorno\n",
    "* Agrega las API Keys "
   ],
   "id": "7f40733db9b0096a"
  },
  {
   "metadata": {
    "ExecuteTime": {
     "end_time": "2025-03-19T14:38:59.397457Z",
     "start_time": "2025-03-19T14:38:59.381877Z"
    }
   },
   "cell_type": "code",
   "source": [
    "# Cargar variables de entorno\n",
    "dotenv_path = find_dotenv()\n",
    "load_dotenv(dotenv_path)"
   ],
   "id": "d0c807349409bec4",
   "outputs": [
    {
     "data": {
      "text/plain": [
       "True"
      ]
     },
     "execution_count": 2,
     "metadata": {},
     "output_type": "execute_result"
    }
   ],
   "execution_count": 2
  },
  {
   "metadata": {},
   "cell_type": "markdown",
   "source": "### Definimos una estructura para el estado\n",
   "id": "635ea0260265ac65"
  },
  {
   "metadata": {
    "ExecuteTime": {
     "end_time": "2025-03-19T14:39:00.882593Z",
     "start_time": "2025-03-19T14:39:00.874660Z"
    }
   },
   "cell_type": "code",
   "source": [
    "class State(TypedDict):\n",
    "    graph_state: str\n",
    "    messages: list"
   ],
   "id": "60a6c8b94bcb425d",
   "outputs": [],
   "execution_count": 3
  },
  {
   "metadata": {},
   "cell_type": "markdown",
   "source": [
    "### Definimos los agentes o miembros:\n",
    "Estos son los que estarán en este sistema multi-agente tipo supervisor\n",
    "   * Agente **Amparo** --> Agente principal\n",
    "   * Agente **Buker** --> Agente especializado en BUK\n",
    "   * Agente **Planner** --> Agente especializado en entrega de tareas\n",
    "   * Agente **Reglamento** --> Agente especializado en consultas del reglamento interno\n",
    "   * Agente **Search Web** --> Agente especializado en consultas web para temas más generales"
   ],
   "id": "bcf91f21863a52bc"
  },
  {
   "metadata": {
    "ExecuteTime": {
     "end_time": "2025-03-19T14:39:03.362712Z",
     "start_time": "2025-03-19T14:39:03.352361Z"
    }
   },
   "cell_type": "code",
   "source": [
    "members = [\"amparo\", \"buker\", \"planner\", \"reglamento\", \"search_web\"]\n",
    "options = members + [\"FINISH\"]"
   ],
   "id": "dbe73c26a6943b87",
   "outputs": [],
   "execution_count": 4
  },
  {
   "metadata": {},
   "cell_type": "markdown",
   "source": [
    "### System Prompt\n",
    "Entregamos el prompt que usará el supervisor para dirigir el trabajo a los diferentes agente"
   ],
   "id": "91db90a4d020851c"
  },
  {
   "metadata": {
    "ExecuteTime": {
     "end_time": "2025-03-19T14:39:05.586205Z",
     "start_time": "2025-03-19T14:39:05.578347Z"
    }
   },
   "cell_type": "code",
   "source": [
    "# Prompt del sistema\n",
    "system_prompt = (\n",
    "    \"Eres un supervisor de RRHH que trabaja para las empresas constructora del mar II e inmobiliaria costanera pacifico \"\n",
    "    f\"y eres el encargado de gestionar las conversaciones y solicitudes entre los siguientes miembros: {members}. \"\n",
    "    \"Ante la siguiente solicitud del usuario, responda con el miembro que debe actuar a continuación. \"\n",
    "    \"Cada miembro realizará una tarea y responderá con sus resultados y el estado. Al finalizar, responda con FINISH.\"\n",
    ")"
   ],
   "id": "681d25f396dacaf7",
   "outputs": [],
   "execution_count": 5
  },
  {
   "metadata": {},
   "cell_type": "markdown",
   "source": [
    "### Creación del Router\n",
    "Este se encargará de dirigir la flujo entre los agentes"
   ],
   "id": "8ac6fe7eef12c33b"
  },
  {
   "metadata": {
    "ExecuteTime": {
     "end_time": "2025-03-19T14:39:07.302469Z",
     "start_time": "2025-03-19T14:39:07.298173Z"
    }
   },
   "cell_type": "code",
   "source": [
    "class Router(TypedDict):\n",
    "    next: Literal[options]"
   ],
   "id": "a466334938f8daaf",
   "outputs": [],
   "execution_count": 6
  },
  {
   "metadata": {},
   "cell_type": "markdown",
   "source": [
    "### Selección del modelo\n",
    "En este caso se usará **gpt-3.5-turbo**"
   ],
   "id": "411dab0691559982"
  },
  {
   "metadata": {
    "ExecuteTime": {
     "end_time": "2025-03-19T14:39:08.832051Z",
     "start_time": "2025-03-19T14:39:08.783198Z"
    }
   },
   "cell_type": "code",
   "source": [
    "# Configurar modelo de lenguaje\n",
    "llm = ChatOpenAI(model=\"gpt-3.5-turbo\")"
   ],
   "id": "b4759ab71e01a471",
   "outputs": [],
   "execution_count": 7
  },
  {
   "metadata": {},
   "cell_type": "markdown",
   "source": [
    "### Creamos el Agente Supervisor\n",
    " Este se encargará de orquestar el sistema"
   ],
   "id": "2b19d58000381e15"
  },
  {
   "metadata": {
    "ExecuteTime": {
     "end_time": "2025-03-19T14:39:10.943423Z",
     "start_time": "2025-03-19T14:39:10.928139Z"
    }
   },
   "cell_type": "code",
   "source": [
    "# Definir nodo supervisor\n",
    "def supervisor_node(state: State) -> Command:\n",
    "    messages = [{\"role\": \"system\", \"content\": system_prompt}] + state[\"messages\"]\n",
    "    response = llm.with_structured_output(Router).invoke(messages)\n",
    "    goto = response[\"next\"]\n",
    "    \n",
    "    if goto == \"FINISH\":\n",
    "        goto = END  # ✅ Usa END en vez de un string \"END\"\n",
    "    \n",
    "    return Command(goto=goto, update={\"next\": goto})"
   ],
   "id": "c524691495a65626",
   "outputs": [],
   "execution_count": 8
  },
  {
   "metadata": {},
   "cell_type": "markdown",
   "source": "### Continuamos con la creación preliminar del resto de agentes\n",
   "id": "465f07ca3d7de4a6"
  },
  {
   "metadata": {
    "ExecuteTime": {
     "end_time": "2025-03-19T14:39:12.793635Z",
     "start_time": "2025-03-19T14:39:12.777506Z"
    }
   },
   "cell_type": "code",
   "source": [
    "# Definir los nodos restantes como Commands en vez de strings\n",
    "def amparo(state: State) -> Command:\n",
    "    return Command(goto=\"supervisor_node\")\n",
    "\n",
    "def buker(state: State) -> Command:\n",
    "    return Command(goto=\"supervisor_node\")\n",
    "\n",
    "def planner(state: State) -> Command:\n",
    "    return Command(goto=\"supervisor_node\")\n",
    "\n",
    "def reglamento(state: State) -> Command:\n",
    "    return Command(goto=\"supervisor_node\")"
   ],
   "id": "7fc27b260fa55e59",
   "outputs": [],
   "execution_count": 9
  },
  {
   "metadata": {},
   "cell_type": "markdown",
   "source": "### Tools y agent Search Web",
   "id": "14f6c1c14f05aba5"
  },
  {
   "metadata": {
    "ExecuteTime": {
     "end_time": "2025-03-19T14:39:14.802279Z",
     "start_time": "2025-03-19T14:39:14.785816Z"
    }
   },
   "cell_type": "code",
   "source": [
    "# Configurar herramientas de búsqueda\n",
    "tavily_tool = TavilySearchResults(max_results=5)"
   ],
   "id": "57b5e0d681867f95",
   "outputs": [],
   "execution_count": 10
  },
  {
   "metadata": {
    "ExecuteTime": {
     "end_time": "2025-03-19T14:39:16.575380Z",
     "start_time": "2025-03-19T14:39:16.545435Z"
    }
   },
   "cell_type": "code",
   "source": [
    "# Crear agente de investigación\n",
    "research_agent = create_react_agent(\n",
    "    llm, tools=[tavily_tool], prompt=\"You are a researcher. DO NOT do any math.\"\n",
    ")\n",
    "\n",
    "# Nodo de búsqueda web\n",
    "def research_node(state: State) -> Command:\n",
    "    result = research_agent.invoke(state)\n",
    "    return Command(\n",
    "        update={\"messages\": [HumanMessage(content=result[\"messages\"][-1].content, name=\"researcher\")]},\n",
    "        goto=\"supervisor_node\",\n",
    "    )\n",
    "\n",
    "def search_web(state: State) -> Command:\n",
    "    return Command(goto=\"supervisor_node\")"
   ],
   "id": "ad16f965b4570352",
   "outputs": [],
   "execution_count": 11
  },
  {
   "metadata": {},
   "cell_type": "markdown",
   "source": "### Construcción del Grafo",
   "id": "2527819c2ec5474f"
  },
  {
   "metadata": {
    "ExecuteTime": {
     "end_time": "2025-03-19T14:39:47.134570Z",
     "start_time": "2025-03-19T14:39:47.132164Z"
    }
   },
   "cell_type": "code",
   "source": "builder = StateGraph(State)",
   "id": "78317f5cf3406547",
   "outputs": [],
   "execution_count": 16
  },
  {
   "metadata": {},
   "cell_type": "markdown",
   "source": "### Añadir Nodos",
   "id": "7323e609afb286f4"
  },
  {
   "metadata": {
    "ExecuteTime": {
     "end_time": "2025-03-19T14:39:48.728882Z",
     "start_time": "2025-03-19T14:39:48.722566Z"
    }
   },
   "cell_type": "code",
   "source": [
    "builder.add_node(\"supervisor_node\", supervisor_node)\n",
    "builder.add_node(\"amparo\", amparo)\n",
    "builder.add_node(\"buker\", buker)\n",
    "builder.add_node(\"planner\", planner)\n",
    "builder.add_node(\"reglamento\", reglamento)\n",
    "builder.add_node(\"search_web\", search_web)"
   ],
   "id": "9207d56c9bd3400d",
   "outputs": [
    {
     "data": {
      "text/plain": [
       "<langgraph.graph.state.StateGraph at 0x1867831bfa0>"
      ]
     },
     "execution_count": 17,
     "metadata": {},
     "output_type": "execute_result"
    }
   ],
   "execution_count": 17
  },
  {
   "metadata": {},
   "cell_type": "markdown",
   "source": "### Definiciónde Edges",
   "id": "fe5453f395ee0db6"
  },
  {
   "metadata": {
    "ExecuteTime": {
     "end_time": "2025-03-19T14:39:53.824420Z",
     "start_time": "2025-03-19T14:39:53.817222Z"
    }
   },
   "cell_type": "code",
   "source": [
    "# Definir conexiones entre nodos\n",
    "builder.add_edge(START, \"supervisor_node\")\n",
    "builder.add_edge(\"supervisor_node\", \"amparo\")\n",
    "builder.add_edge(\"amparo\", \"supervisor_node\")\n",
    "builder.add_edge(\"supervisor_node\", \"buker\")\n",
    "builder.add_edge(\"buker\", \"supervisor_node\")\n",
    "builder.add_edge(\"supervisor_node\", \"planner\")\n",
    "builder.add_edge(\"planner\", \"supervisor_node\")\n",
    "builder.add_edge(\"supervisor_node\", \"reglamento\")\n",
    "builder.add_edge(\"reglamento\", \"supervisor_node\")\n",
    "builder.add_edge(\"supervisor_node\", \"search_web\")\n",
    "builder.add_edge(\"search_web\", \"supervisor_node\")\n",
    "builder.add_edge(\"supervisor_node\", END)  # ✅ Asegurar que END es un valor válido"
   ],
   "id": "6934d5a141907ef3",
   "outputs": [
    {
     "data": {
      "text/plain": [
       "<langgraph.graph.state.StateGraph at 0x1867831bfa0>"
      ]
     },
     "execution_count": 18,
     "metadata": {},
     "output_type": "execute_result"
    }
   ],
   "execution_count": 18
  },
  {
   "metadata": {},
   "cell_type": "markdown",
   "source": "### Compilación y visaulización del grafo",
   "id": "1f9e0250911f97ea"
  },
  {
   "metadata": {
    "ExecuteTime": {
     "end_time": "2025-03-19T14:39:55.612887Z",
     "start_time": "2025-03-19T14:39:55.526091Z"
    }
   },
   "cell_type": "code",
   "source": [
    "# Compilar y mostrar el gráfico de estados\n",
    "graph = builder.compile()\n",
    "display(Image(graph.get_graph().draw_mermaid_png()))"
   ],
   "id": "c6bb673b3acffa77",
   "outputs": [
    {
     "data": {
      "image/png": "[encoded data removed]",
      "text/plain": [
       "<IPython.core.display.Image object>"
      ]
     },
     "metadata": {},
     "output_type": "display_data"
    }
   ],
   "execution_count": 19
  }
 ],
 "metadata": {
  "kernelspec": {
   "display_name": "Python 3",
   "language": "python",
   "name": "python3"
  },
  "language_info": {
   "codemirror_mode": {
    "name": "ipython",
    "version": 2
   },
   "file_extension": ".py",
   "mimetype": "text/x-python",
   "name": "python",
   "nbconvert_exporter": "python",
   "pygments_lexer": "ipython2",
   "version": "2.7.6"
  }
 },
 "nbformat": 4,
 "nbformat_minor": 5
}
