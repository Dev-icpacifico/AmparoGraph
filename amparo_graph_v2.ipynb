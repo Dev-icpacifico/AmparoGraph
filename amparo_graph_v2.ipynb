{
 "cells": [
  {
   "cell_type": "code",
   "id": "initial_id",
   "metadata": {
    "collapsed": true,
    "ExecuteTime": {
     "end_time": "2025-03-20T19:28:44.440297Z",
     "start_time": "2025-03-20T19:28:40.348770Z"
    }
   },
   "source": [
    "from pickle import EMPTY_DICT\n",
    "\n",
    "from hamcrest import empty\n",
    "%%capture --no-stderr\n",
    "%pip install --quiet -U langchain_openai langchain_core langgraph langchain_community langchain_anthropic langchain_experimental"
   ],
   "outputs": [],
   "execution_count": 1
  },
  {
   "metadata": {
    "ExecuteTime": {
     "end_time": "2025-03-20T21:22:52.655215Z",
     "start_time": "2025-03-20T21:22:52.638118Z"
    }
   },
   "cell_type": "code",
   "source": [
    "from typing import TypedDict, Literal\n",
    "from langgraph.graph import MessagesState, END, START, StateGraph\n",
    "from langgraph.types import Command\n",
    "from langchain_core.messages import HumanMessage\n",
    "from langgraph.prebuilt import create_react_agent\n",
    "from langchain_openai import ChatOpenAI\n",
    "from dotenv import find_dotenv, load_dotenv\n",
    "from langchain_community.tools.tavily_search import TavilySearchResults\n",
    "from IPython.display import Image, display\n",
    "from typing import TypedDict, Optional, Dict, List\n",
    "from pydantic import BaseModel\n",
    "from typing import Literal\n",
    "from typing import Annotated\n",
    "from operator import add"
   ],
   "id": "551165a0ea63c9a2",
   "outputs": [],
   "execution_count": 356
  },
  {
   "metadata": {
    "ExecuteTime": {
     "end_time": "2025-03-20T21:22:53.212601Z",
     "start_time": "2025-03-20T21:22:53.193900Z"
    }
   },
   "cell_type": "code",
   "source": [
    "# Cargar variables de entorno\n",
    "dotenv_path = find_dotenv()\n",
    "load_dotenv(dotenv_path)"
   ],
   "id": "a6445c591a32e257",
   "outputs": [
    {
     "data": {
      "text/plain": [
       "True"
      ]
     },
     "execution_count": 357,
     "metadata": {},
     "output_type": "execute_result"
    }
   ],
   "execution_count": 357
  },
  {
   "metadata": {
    "ExecuteTime": {
     "end_time": "2025-03-20T21:22:53.707209Z",
     "start_time": "2025-03-20T21:22:53.695317Z"
    }
   },
   "cell_type": "code",
   "source": [
    "# Primero defino un estado para el input del usuario\n",
    "\n",
    "# Estado de Entrada: Contiene la consulta que hará el usuario\n",
    "class InputState(TypedDict):\n",
    "    user_input: str\n",
    "    context: Optional[Dict]\n",
    "\n",
    "# Estado de Salida\n",
    "class OutputState(TypedDict):\n",
    "    graph_output: str\n",
    "\n",
    "# ¿Luego defino un estado para el supervisor?\n",
    "class SupervisorState(TypedDict):\n",
    "    user_input: str\n",
    "    graph_output: str\n",
    "    agent_responses: Annotated[list[str], add]  # ✅ Asegurarse de que el nombre sea consistente con el uso\n",
    "    conversation_history: Annotated[list[str], add]  # ✅ Agregar historial de conversación\n",
    "    task_status: Dict[str, str]\n",
    "\n",
    "# Definir un estado para el agente Buker\n",
    "class BukerState(TypedDict):\n",
    "    buker_response: Annotated[List[str], add]\n",
    "\n",
    "# Definir un estado para el agente Planner\n",
    "class PlannerState(TypedDict):\n",
    "    planner_response: Annotated[List[str], add]\n",
    "\n",
    "# Difinir un estado para el agente Reglamento\n",
    "class ReglamentoState(TypedDict):\n",
    "    reglamento_response: Annotated[List[str], add]\n",
    "\n",
    "# Definir un estado para el agente de Search_web\n",
    "class SearchState(TypedDict):\n",
    "    search_results: Optional[List[str]]"
   ],
   "id": "61b0d0969f2cd984",
   "outputs": [],
   "execution_count": 358
  },
  {
   "metadata": {
    "ExecuteTime": {
     "end_time": "2025-03-20T21:22:54.881155Z",
     "start_time": "2025-03-20T21:22:54.877130Z"
    }
   },
   "cell_type": "code",
   "source": [
    "# Definir quienes serán los miembros de la arquitectuta\n",
    "miembros = [\"buker\", \"planner\", \"reglamento\", \"search_web\"]\n",
    "options = [\"buker\", \"planner\", \"reglamento\", \"search_web\",\"FINISH\"]"
   ],
   "id": "be7e0fe6811bf63c",
   "outputs": [],
   "execution_count": 359
  },
  {
   "metadata": {
    "ExecuteTime": {
     "end_time": "2025-03-20T21:22:55.391990Z",
     "start_time": "2025-03-20T21:22:55.382485Z"
    }
   },
   "cell_type": "code",
   "source": [
    "system_prompt = (\n",
    "    \"Eres un supervisor encargado de gestionar una conversación entre los\"\n",
    "    f\" siguientes trabajadores: {miembros}. Dada la siguiente solicitud del usuario,\"\n",
    "    \" responde con el trabajador que debe actuar a continuación. Cada trabajador\"\n",
    "    \" realizará una tarea y responderá con sus resultados y estado. Cuando termine,\"\n",
    "    \" responde con FINISH.\"\n",
    ")\n"
   ],
   "id": "5553944233169c22",
   "outputs": [],
   "execution_count": 360
  },
  {
   "metadata": {
    "ExecuteTime": {
     "end_time": "2025-03-20T21:22:56.383263Z",
     "start_time": "2025-03-20T21:22:56.356993Z"
    }
   },
   "cell_type": "code",
   "source": [
    "# Configurar modelo de lenguaje\n",
    "llm = ChatOpenAI(model=\"gpt-4o\")"
   ],
   "id": "70bfbd2b149a419a",
   "outputs": [],
   "execution_count": 361
  },
  {
   "metadata": {
    "ExecuteTime": {
     "end_time": "2025-03-20T21:22:57.387010Z",
     "start_time": "2025-03-20T21:22:57.378501Z"
    }
   },
   "cell_type": "code",
   "source": [
    "class Router(TypedDict):\n",
    "    \"\"\"Worker to route to next. If no workers needed, route to FINISH.\"\"\"\n",
    "    next: Literal[\"buker\", \"planner\", \"reglamento\", \"search_web\", \"FINISH\"]\n",
    "print(Router())"
   ],
   "id": "a3555e8aafd6294b",
   "outputs": [
    {
     "name": "stdout",
     "output_type": "stream",
     "text": [
      "{}\n"
     ]
    }
   ],
   "execution_count": 362
  },
  {
   "metadata": {
    "ExecuteTime": {
     "end_time": "2025-03-20T21:22:59.391174Z",
     "start_time": "2025-03-20T21:22:59.384144Z"
    }
   },
   "cell_type": "code",
   "source": [
    "def amparo_node(state: SupervisorState) -> Command[Literal[\"buker\", \"planner\", \"reglamento\", \"search_web\", \"__end__\"]]:\n",
    "    messages = [{\"role\": \"system\", \"content\": system_prompt}] + [\n",
    "        {\"role\": \"user\", \"content\": msg} for msg in state.get(\"conversation_history\", [])\n",
    "    ]\n",
    "\n",
    "    # print(\"📌 Mensajes enviados al modelo:\", messages)\n",
    "\n",
    "    response = llm.with_structured_output(Router).invoke(messages)\n",
    "    # print(\"📌 Respuesta del modelo:\", response)\n",
    "\n",
    "    goto = response[\"next\"]\n",
    "    # print(\"📌 Próximo nodo:\", goto)\n",
    "\n",
    "    # 🔹 Obtener o inicializar task_status\n",
    "    task_status = state.get(\"task_status\", {})\n",
    "\n",
    "    # 🔹 Inicializar todas las tareas como \"pendiente\" si task_status está vacío\n",
    "    if not task_status:\n",
    "        task_status = {tarea: \"pendiente\" for tarea in [\"buker\", \"planner\", \"reglamento\", \"search_web\"]}\n",
    "        # print(f\"🔄 Inicializando task_status: {task_status}\")\n",
    "\n",
    "    # 🔹 Verificar si todas las tareas han sido completadas\n",
    "    if all(status == \"completado\" for status in task_status.values()):\n",
    "        # print(\"✅ Todas las tareas fueron completadas. Finalizando el flujo.\")\n",
    "        return Command(goto=END)  # 🚀 Finaliza la ejecución\n",
    "\n",
    "    # 🔹 Si el supervisor sigue asignando la misma tarea completada, evitar el bucle\n",
    "    if task_status.get(goto) == \"completado\":\n",
    "        # print(f\"⚠️ La tarea {goto} ya está completada. Buscando otro nodo...\")\n",
    "        tareas_pendientes = [tarea for tarea, estado in task_status.items() if estado == \"pendiente\"]\n",
    "        if tareas_pendientes:\n",
    "            goto = tareas_pendientes[0]  # Selecciona la primera tarea pendiente\n",
    "        else:\n",
    "            # print(\"✅ Todas las tareas se completaron, finalizando flujo.\")\n",
    "            return Command(goto=END)\n",
    "\n",
    "    # 🔹 Marcar la tarea seleccionada como \"pendiente\"\n",
    "    task_status[goto] = \"pendiente\"\n",
    "\n",
    "    updated_state = {\n",
    "        \"conversation_history\": state.get(\"conversation_history\", []) + [f\"Supervisor asignó tarea a {goto}\"],\n",
    "        \"task_status\": task_status  # ✅ Se actualiza correctamente\n",
    "    }\n",
    "\n",
    "    return Command(goto=goto, update=updated_state)\n"
   ],
   "id": "16db7573f499745b",
   "outputs": [],
   "execution_count": 363
  },
  {
   "metadata": {
    "ExecuteTime": {
     "end_time": "2025-03-20T21:23:00.309473Z",
     "start_time": "2025-03-20T21:23:00.296441Z"
    }
   },
   "cell_type": "code",
   "source": [
    "# Nodo de Buker\n",
    "def buker_node(state: SupervisorState) -> Command:\n",
    "    user_input = state[\"user_input\"]\n",
    "\n",
    "    # 🔹 Simulación de respuesta desde Buker\n",
    "    buker_response = f\"Consulta en BUK realizada para: {user_input}\"\n",
    "\n",
    "    # 🔹 Actualizar el estado con la respuesta de Buker\n",
    "    updated_state = {\n",
    "        \"agent_responses\": state.get(\"agent_responses\", []) + [buker_response],\n",
    "        \"task_status\": {**state.get(\"task_status\", {}), \"buker\": \"completado\"},\n",
    "    }\n",
    "\n",
    "    print(f\"✅ Buker completó la tarea. Estado actualizado: {updated_state}\")\n",
    "\n",
    "    return Command(update=updated_state, goto=\"amparo\")\n"
   ],
   "id": "99e816a550b04dfe",
   "outputs": [],
   "execution_count": 364
  },
  {
   "metadata": {
    "ExecuteTime": {
     "end_time": "2025-03-20T21:23:00.821819Z",
     "start_time": "2025-03-20T21:23:00.806660Z"
    }
   },
   "cell_type": "code",
   "source": [
    "# Nodo de Planner\n",
    "def planner_node(state: SupervisorState) -> Command:\n",
    "    user_input = state[\"user_input\"]\n",
    "\n",
    "    # 🔹 Simulación de planificación de tareas\n",
    "    planner_response = f\"Tareas planificadas para: {user_input}\"\n",
    "\n",
    "    # 🔹 Actualizar el estado con la respuesta del Planner\n",
    "    updated_state = {\n",
    "        \"agent_responses\": state.get(\"agent_responses\", []) + [planner_response],\n",
    "        \"task_status\": {**state.get(\"task_status\", {}), \"planner\": \"completado\"},\n",
    "    }\n",
    "\n",
    "    print(f\"✅ Planner completó la tarea. Estado actualizado: {updated_state}\")\n",
    "\n",
    "    return Command(update=updated_state, goto=\"amparo\")\n"
   ],
   "id": "c7dd38a1615e95a4",
   "outputs": [],
   "execution_count": 365
  },
  {
   "metadata": {
    "ExecuteTime": {
     "end_time": "2025-03-20T21:23:01.440802Z",
     "start_time": "2025-03-20T21:23:01.428709Z"
    }
   },
   "cell_type": "code",
   "source": [
    "# Nodo de Reglamento\n",
    "def reglamento_node(state: SupervisorState) -> Command:\n",
    "    user_input = state[\"user_input\"]\n",
    "\n",
    "    # 🔹 Simulación de respuesta del reglamento interno\n",
    "    reglamento_response = f\"Consulta de reglamento respondida para: {user_input}\"\n",
    "\n",
    "    # 🔹 Actualizar el estado con la respuesta del reglamento\n",
    "    updated_state = {\n",
    "        \"agent_responses\": state.get(\"agent_responses\", []) + [reglamento_response],\n",
    "        \"task_status\": {**state.get(\"task_status\", {}), \"reglamento\": \"completado\"},\n",
    "    }\n",
    "\n",
    "    print(f\"✅ Reglamento completó la tarea. Estado actualizado: {updated_state}\")\n",
    "\n",
    "    return Command(update=updated_state, goto=\"amparo\")\n"
   ],
   "id": "38615c9979857b97",
   "outputs": [],
   "execution_count": 366
  },
  {
   "metadata": {
    "ExecuteTime": {
     "end_time": "2025-03-20T21:23:01.981808Z",
     "start_time": "2025-03-20T21:23:01.969346Z"
    }
   },
   "cell_type": "code",
   "source": [
    "# Herramientas de Search Web\n",
    "# Configurar herramientas de búsqueda\n",
    "tavily_tool = TavilySearchResults(max_results=1)\n",
    "\"\"\"\n",
    "# Crear agente de investigación\n",
    "research_agent = create_react_agent(\n",
    "    llm, tools=[tavily_tool], prompt=\"Eres un agente especializado en busqueda web\"\n",
    ")\"\"\""
   ],
   "id": "cdf621e440c1c848",
   "outputs": [
    {
     "data": {
      "text/plain": [
       "'\\n# Crear agente de investigación\\nresearch_agent = create_react_agent(\\n    llm, tools=[tavily_tool], prompt=\"Eres un agente especializado en busqueda web\"\\n)'"
      ]
     },
     "execution_count": 367,
     "metadata": {},
     "output_type": "execute_result"
    }
   ],
   "execution_count": 367
  },
  {
   "metadata": {
    "ExecuteTime": {
     "end_time": "2025-03-20T21:23:02.834104Z",
     "start_time": "2025-03-20T21:23:02.822074Z"
    }
   },
   "cell_type": "code",
   "source": [
    "# Nodo de Search Web\n",
    "def search_web(state: SupervisorState) -> Command:\n",
    "    user_query = state[\"user_input\"]  # Obtener la consulta del usuario\n",
    "    \n",
    "    # 🔹 Realizar la búsqueda en la web\n",
    "    search_results = tavily_tool.invoke(user_query)\n",
    "\n",
    "    # 🔹 Actualizar el estado con los resultados obtenidos\n",
    "    updated_state = {\n",
    "        \"agent_responses\": state.get(\"agent_responses\", []) + [f\"Resultados de búsqueda: {search_results}\"],\n",
    "        \"task_status\": {**state.get(\"task_status\", {}), \"search_web\": \"completado\"},\n",
    "    }\n",
    "\n",
    "    print(f\"✅ Búsqueda web completada para: {user_query}\")\n",
    "    print(updated_state)\n",
    "    \n",
    "    return Command(update=updated_state, goto=\"amparo\")  # Regresa al supervisor"
   ],
   "id": "1bcbbfd9a275c507",
   "outputs": [],
   "execution_count": 368
  },
  {
   "metadata": {
    "ExecuteTime": {
     "end_time": "2025-03-20T21:23:03.775529Z",
     "start_time": "2025-03-20T21:23:03.633782Z"
    }
   },
   "cell_type": "code",
   "source": [
    "builder = StateGraph(SupervisorState, input=InputState, output=OutputState)\n",
    "builder.add_node(\"amparo\", amparo_node)\n",
    "builder.add_node(\"buker\", buker_node)\n",
    "builder.add_node(\"planner\", planner_node)\n",
    "builder.add_node(\"reglamento\", reglamento_node)\n",
    "builder.add_node(\"search_web\", search_web)\n",
    "\n",
    "# Definir conexiones entre nodos\n",
    "builder.add_edge(START, \"amparo\")\n",
    "# builder.add_edge(\"amparo\", \"buker\")\n",
    "# builder.add_edge(\"buker\", \"amparo\")\n",
    "# builder.add_edge(\"amparo\", \"planner\")\n",
    "# builder.add_edge(\"planner\", \"amparo\")\n",
    "# builder.add_edge(\"amparo\", \"reglamento\")\n",
    "# builder.add_edge(\"reglamento\", \"amparo\")\n",
    "# builder.add_edge(\"amparo\", \"search_web\")\n",
    "#builder.add_edge(\"search_web\", \"amparo\")\n",
    "# builder.add_edge(\"amparo\", END)  # ✅ Asegurar que END es un valor válido\n",
    "\n",
    "# Compilar y mostrar el gráfico de estados\n",
    "graph = builder.compile()\n",
    "display(Image(graph.get_graph().draw_mermaid_png()))"
   ],
   "id": "c290df60e521672c",
   "outputs": [
    {
     "data": {
      "image/png": "[encoded data removed]",
      "text/plain": [
       "<IPython.core.display.Image object>"
      ]
     },
     "metadata": {},
     "output_type": "display_data"
    }
   ],
   "execution_count": 369
  },
  {
   "metadata": {
    "ExecuteTime": {
     "end_time": "2025-03-20T20:55:59.560999Z",
     "start_time": "2025-03-20T20:55:53.070730Z"
    }
   },
   "cell_type": "code",
   "source": [
    "response = graph.invoke({\"user_input\": \"Busca en internet quien es el presidente de los Estados Unidos de América\"})\n",
    "print(response)"
   ],
   "id": "63651ff486e4ccd1",
   "outputs": [
    {
     "name": "stdout",
     "output_type": "stream",
     "text": [
      "✅ Planner completó la tarea. Estado actualizado: {'agent_responses': ['Tareas planificadas para: Busca en internet quien es el presidente de los Estados Unidos de América'], 'task_status': {'buker': 'pendiente', 'planner': 'completado', 'reglamento': 'pendiente', 'search_web': 'pendiente'}}\n",
      "✅ Buker completó la tarea. Estado actualizado: {'agent_responses': ['Tareas planificadas para: Busca en internet quien es el presidente de los Estados Unidos de América', 'Consulta en BUK realizada para: Busca en internet quien es el presidente de los Estados Unidos de América'], 'task_status': {'buker': 'completado', 'planner': 'completado', 'reglamento': 'pendiente', 'search_web': 'pendiente'}}\n",
      "✅ Reglamento completó la tarea. Estado actualizado: {'agent_responses': ['Tareas planificadas para: Busca en internet quien es el presidente de los Estados Unidos de América', 'Tareas planificadas para: Busca en internet quien es el presidente de los Estados Unidos de América', 'Consulta en BUK realizada para: Busca en internet quien es el presidente de los Estados Unidos de América', 'Consulta de reglamento respondida para: Busca en internet quien es el presidente de los Estados Unidos de América'], 'task_status': {'buker': 'completado', 'planner': 'completado', 'reglamento': 'completado', 'search_web': 'pendiente'}}\n",
      "✅ Búsqueda web completada para: Busca en internet quien es el presidente de los Estados Unidos de América\n",
      "{'agent_responses': ['Tareas planificadas para: Busca en internet quien es el presidente de los Estados Unidos de América', 'Tareas planificadas para: Busca en internet quien es el presidente de los Estados Unidos de América', 'Consulta en BUK realizada para: Busca en internet quien es el presidente de los Estados Unidos de América', 'Tareas planificadas para: Busca en internet quien es el presidente de los Estados Unidos de América', 'Tareas planificadas para: Busca en internet quien es el presidente de los Estados Unidos de América', 'Consulta en BUK realizada para: Busca en internet quien es el presidente de los Estados Unidos de América', 'Consulta de reglamento respondida para: Busca en internet quien es el presidente de los Estados Unidos de América', \"Resultados de búsqueda: [{'title': 'Presidente de los Estados Unidos de América - U.S. Embassy in Chile', 'url': 'https://cl.usembassy.gov/es/our-relationship-es/us-president-es/', 'content': 'Donald J. Trump es el 47 º presidente de los Estados Unidos. También fungió como el 45 º presidente. Lea la biografía completa del Presidente.', 'score': 0.6021791}]\"], 'task_status': {'buker': 'completado', 'planner': 'completado', 'reglamento': 'completado', 'search_web': 'completado'}}\n",
      "None\n"
     ]
    }
   ],
   "execution_count": 354
  },
  {
   "metadata": {},
   "cell_type": "code",
   "outputs": [],
   "execution_count": null,
   "source": "",
   "id": "5b784b9a5b6be6cf"
  }
 ],
 "metadata": {
  "kernelspec": {
   "display_name": "Python 3",
   "language": "python",
   "name": "python3"
  },
  "language_info": {
   "codemirror_mode": {
    "name": "ipython",
    "version": 2
   },
   "file_extension": ".py",
   "mimetype": "text/x-python",
   "name": "python",
   "nbconvert_exporter": "python",
   "pygments_lexer": "ipython2",
   "version": "2.7.6"
  }
 },
 "nbformat": 4,
 "nbformat_minor": 5
}
