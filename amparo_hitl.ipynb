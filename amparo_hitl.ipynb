{
 "cells": [
  {
   "cell_type": "code",
   "id": "initial_id",
   "metadata": {
    "collapsed": true,
    "ExecuteTime": {
     "end_time": "2025-03-21T21:44:10.957042Z",
     "start_time": "2025-03-21T21:44:09.751171Z"
    }
   },
   "source": [
    "# Importación de librerias\n",
    "from langgraph.graph import START, END, StateGraph\n",
    "from langgraph.types import Command\n",
    "from langgraph.prebuilt import create_react_agent\n",
    "from langchain_core.messages import HumanMessage\n",
    "from langchain_openai import ChatOpenAI\n",
    "from langchain_community.tools.tavily_search import TavilySearchResults\n",
    "from dotenv import load_dotenv, find_dotenv\n",
    "from typing import TypedDict, Optional, Dict, List, Literal, Annotated\n",
    "from operator import add\n",
    "from IPython.display import Image, display\n"
   ],
   "outputs": [],
   "execution_count": 1
  },
  {
   "metadata": {
    "ExecuteTime": {
     "end_time": "2025-03-21T21:44:12.021419Z",
     "start_time": "2025-03-21T21:44:12.012841Z"
    }
   },
   "cell_type": "code",
   "source": [
    "# Carga de variables de entorno\n",
    "dotenv_path = find_dotenv()\n",
    "load_dotenv(dotenv_path)"
   ],
   "id": "456aac6d69e2b4bf",
   "outputs": [
    {
     "data": {
      "text/plain": [
       "True"
      ]
     },
     "execution_count": 2,
     "metadata": {},
     "output_type": "execute_result"
    }
   ],
   "execution_count": 2
  },
  {
   "metadata": {
    "ExecuteTime": {
     "end_time": "2025-03-21T21:44:12.616338Z",
     "start_time": "2025-03-21T21:44:12.598951Z"
    }
   },
   "cell_type": "code",
   "source": [
    "# Crear Estados para cada nodo\n",
    "# Estado global que será compartido por all el sistema \n",
    "class GlobalState(TypedDict):\n",
    "    graph_state: str\n",
    "    messages: str\n",
    "# Estado para el Buker\n",
    "class BukerState(TypedDict):\n",
    "    buker_state: List[str]\n",
    "# Estado para el Planner\n",
    "class PlannerState(TypedDict):\n",
    "    planner_state: List[str]\n",
    "# Estado para el reglamento\n",
    "class ReglamentoState(TypedDict):\n",
    "    reglamento_state: List[str]\n",
    "\n",
    "# Estado para el feedback    \n",
    "class FeedbackState(TypedDict):\n",
    "    feedback_state: List[str]"
   ],
   "id": "c333082dc24d1035",
   "outputs": [],
   "execution_count": 3
  },
  {
   "metadata": {
    "ExecuteTime": {
     "end_time": "2025-03-21T21:45:52.764944Z",
     "start_time": "2025-03-21T21:45:52.746598Z"
    }
   },
   "cell_type": "code",
   "source": [
    "# Agente supervisor quien interactua directamente con el usuario \n",
    "def supervisor(state: GlobalState) -> Command:\n",
    "    \"\"\"\n",
    "    Toma la información del estado global para trabajar y luego dirigir el flujo al siguiente Nodo\n",
    "    \"\"\"\n",
    "    # Logíca del Nodo\n",
    "    pass\n",
    "\n",
    "# Este será un conditional_edge para el flujo\n",
    "def asignacion_tarea(state: GlobalState) -> Command:\n",
    "    \"\"\" \n",
    "    Este tomará la información entregada por el Nodo supervisor que se registra en el\n",
    "    GlobalState. Con esto, la función podrá decidir hacia donde dirigir el flujo\n",
    "    \"\"\"\n",
    "    # Logíca que asignará el agente\n",
    "    pass\n",
    "\n",
    "# Este será el Nodo del agente Buker\n",
    "def buker(state: GlobalState) -> Command:\n",
    "    \"\"\"\n",
    "    Este será el Nodo encargado de resolver cualquier tarea realacionada con la aplicación BUK --> Además esta función tendrá un set de Tools para poder desarrollar su trabajo\n",
    "    \"\"\"\n",
    "    # Logíca del Nodo\n",
    "    pass\n",
    "\n",
    "# Este será el Nodo para el agente Planner\n",
    "def planner(state: GlobalState) -> Command:\n",
    "    \"\"\"\n",
    "    Este será el Nodo que se encargará de entregar información relevante en cuanto las tareas de los trabajadores - incentivos - e indicadores de producción relacionados con \n",
    "    la planificación\n",
    "    \"\"\"\n",
    "    # Logíca del Nodo\n",
    "    pass\n",
    "\n",
    "# Este será el Nodo para el agente Reglamento\n",
    "def reglamento(state: GlobalState) -> Command:\n",
    "    \"\"\"\n",
    "    Este será el Nodo que se encargará de trabajar con el reglamento. En una primera instancia se cargará el documento en PDF y cuando este agente o nodo sea llamado, \n",
    "    realizará un \"retrieve\" a la base de datos donde se almacenará el documento completo.\n",
    "    Antes de entregar la respuesta al usuario este deberá procesarla para que sea preciso\n",
    "    \n",
    "    NOTA: Se debe implementar Chroma con SQLite para almacenar el documento\n",
    "    \"\"\"\n",
    "    # Logíca del Nodo\n",
    "    pass\n",
    "\n",
    "# Agente Deliver es quien se encargará de entregar la respuesta procesara por los agentes\n",
    "def deliver(state: GlobalState) -> Command:\n",
    "    \"\"\"\n",
    "    Toma la información entregada por los demás Nodos (Agentes) para entregarla al usuario\n",
    "    \"\"\"\n",
    "    # Logíca del Nodo\n",
    "    pass\n",
    "\n",
    "# Este será el Nodo que espera la respuesta del Usuario\n",
    "def wait_user(state: GlobalState) -> Command:\n",
    "    \"\"\"\n",
    "    Este será el Nodo que se encargará exclusivamente de gestionar el feedback entregado por el usuario al momento de recibir una respuesta por parte del Supervisor\n",
    "    :param state: \n",
    "    :return: \n",
    "    \"\"\"\n",
    "    # Logíca del Nodo\n",
    "    pass\n",
    "\n",
    "# Este será un conditional_edge para evaluar la respuesta del usuario\n",
    "def evaluar_feedback(state: GlobalState) -> Command:\n",
    "    \"\"\"\n",
    "    Esta función tomará lo que reciba el Nodo wait_user y decidirá si la respuesta \n",
    "    del usuario indica volvera a ejecutar el Grafo o finalizar el flujo hasta END\n",
    "    \"\"\"\n",
    "    # Logíca que evaluará si la respuesta del usuario es satisfactoría\n",
    "    pass"
   ],
   "id": "580457013cdf1550",
   "outputs": [],
   "execution_count": 16
  },
  {
   "metadata": {
    "ExecuteTime": {
     "end_time": "2025-03-21T21:45:53.646344Z",
     "start_time": "2025-03-21T21:45:53.639020Z"
    }
   },
   "cell_type": "code",
   "source": [
    "# Contrucción del Grafo\n",
    "graph = StateGraph(GlobalState)"
   ],
   "id": "215bbc2ef470331a",
   "outputs": [],
   "execution_count": 17
  },
  {
   "metadata": {
    "ExecuteTime": {
     "end_time": "2025-03-21T21:45:54.095558Z",
     "start_time": "2025-03-21T21:45:54.089990Z"
    }
   },
   "cell_type": "code",
   "source": [
    "# Agregar Nodos\n",
    "graph.add_node(\"supervisor\", supervisor)\n",
    "graph.add_node(\"buker\", buker)\n",
    "graph.add_node(\"planner\", planner)\n",
    "graph.add_node(\"reglamento\", reglamento)\n",
    "graph.add_node(\"deliver\", deliver)\n",
    "graph.add_node(\"wait_user\", wait_user)\n",
    "graph.add_node(\"feedback\", evaluar_feedback)\n",
    "graph.add_node(\"asignacion\", asignacion_tarea)"
   ],
   "id": "645b97b3284e018f",
   "outputs": [
    {
     "data": {
      "text/plain": [
       "<langgraph.graph.state.StateGraph at 0x210f10ce5b0>"
      ]
     },
     "execution_count": 18,
     "metadata": {},
     "output_type": "execute_result"
    }
   ],
   "execution_count": 18
  },
  {
   "metadata": {
    "ExecuteTime": {
     "end_time": "2025-03-21T21:45:55.986169Z",
     "start_time": "2025-03-21T21:45:54.898965Z"
    }
   },
   "cell_type": "code",
   "source": [
    "# Agregar Lógica\n",
    "graph.add_edge(START, \"supervisor\")\n",
    "graph.add_edge(\"supervisor\", \"asignacion\")\n",
    "\n",
    "# Supervisor decide agente\n",
    "graph.add_conditional_edges(\n",
    "    \"asignacion\",\n",
    "    asignacion_tarea,\n",
    "    {\n",
    "        \"buker\": \"buker\",\n",
    "        \"planner\": \"planner\",\n",
    "        \"reglamento\": \"reglamento\"\n",
    "    }\n",
    ")\n",
    "# Todos los agentes vuelven al supervisor\n",
    "graph.add_edge(\"buker\", \"deliver\")\n",
    "graph.add_edge(\"planner\", \"deliver\")\n",
    "graph.add_edge(\"reglamento\", \"deliver\")\n",
    "\n",
    "# Supervisor pregunta por feedback\n",
    "graph.add_edge(\"deliver\", \"wait_user\")\n",
    "graph.add_edge(\"wait_user\", \"feedback\")\n",
    "\n",
    "\n",
    "# Evaluar feedback\n",
    "graph.add_conditional_edges(\n",
    "    \"feedback\",\n",
    "    evaluar_feedback,\n",
    "    {\n",
    "        \"satisfecho\": END,\n",
    "        \"insatisfecho\": \"supervisor\"\n",
    "    }\n",
    ")\n",
    "\n",
    "# Compilar grafo\n",
    "graph = graph.compile()\n",
    "# Mostrar visualización del grafo\n",
    "display(Image(graph.get_graph().draw_mermaid_png()))"
   ],
   "id": "759f8bcb2ff288b",
   "outputs": [
    {
     "data": {
      "image/png": "[encoded data removed]",
      "text/plain": [
       "<IPython.core.display.Image object>"
      ]
     },
     "metadata": {},
     "output_type": "display_data"
    }
   ],
   "execution_count": 19
  },
  {
   "metadata": {
    "ExecuteTime": {
     "end_time": "2025-03-21T21:44:38.736167Z",
     "start_time": "2025-03-21T21:44:38.727478Z"
    }
   },
   "cell_type": "code",
   "source": "",
   "id": "83a03456e8f3d393",
   "outputs": [],
   "execution_count": null
  }
 ],
 "metadata": {
  "kernelspec": {
   "display_name": "Python 3",
   "language": "python",
   "name": "python3"
  },
  "language_info": {
   "codemirror_mode": {
    "name": "ipython",
    "version": 2
   },
   "file_extension": ".py",
   "mimetype": "text/x-python",
   "name": "python",
   "nbconvert_exporter": "python",
   "pygments_lexer": "ipython2",
   "version": "2.7.6"
  }
 },
 "nbformat": 4,
 "nbformat_minor": 5
}
